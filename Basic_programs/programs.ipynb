{
 "cells": [
  {
   "cell_type": "markdown",
   "id": "538c0ec2",
   "metadata": {},
   "source": [
    "sort two sorted array"
   ]
  },
  {
   "cell_type": "code",
   "execution_count": null,
   "id": "1e440919",
   "metadata": {},
   "outputs": [
    {
     "data": {
      "text/plain": [
       "[1, 3, 5, 2, 4, 6]"
      ]
     },
     "execution_count": 3,
     "metadata": {},
     "output_type": "execute_result"
    }
   ],
   "source": [
    "from typing import List,TypeVar\n",
    "T = TypeVar('T')\n",
    "\n",
    "\"\"\" \n",
    "2. The problem with lists of “any type”\n",
    "\n",
    "Suppose we want a function that merges two sorted lists:\n",
    "\n",
    "def merge_sorted_lists(a: List[int], b: List[int]) -> List[int]:\n",
    "    ...\n",
    "\n",
    "\n",
    "That works fine if it’s only for int.\n",
    "\n",
    "But what if we also want it to work for List[str], List[float], or even custom objects (like Student, Car, etc.)?\n",
    "We don’t want to rewrite it every time.\n",
    "\n",
    "3. Enter TypeVar\n",
    "\n",
    "TypeVar is how you write generic types in Python.\n",
    "\n",
    "from typing import List, TypeVar\n",
    "\n",
    "T = TypeVar('T')  # T can be int, str, float, or any other type\n",
    "\n",
    "\n",
    "Now you can say:\n",
    "\n",
    "def merge_sorted_lists(a: List[T], b: List[T]) -> List[T]:\n",
    "    ...\n",
    "\n",
    "\n",
    "This means:\n",
    "\n",
    "Both a and b are lists of the same type T.\n",
    "\n",
    "The result is also a list of that same type.\n",
    "\n",
    "So if you call:\n",
    "\n",
    "merge_sorted_lists([1, 2, 3], [4, 5])      # List[int]\n",
    "merge_sorted_lists([\"a\", \"c\"], [\"b\", \"d\"]) # List[str]\n",
    "\n",
    "\n",
    "✅ Works for both ints and strs.\n",
    "\n",
    "\"\"\"\n",
    "def merge_sorted_lists(a: List[T], b: List[T]) -> List[T]:\n",
    "    i = j = 0\n",
    "    out: list[T] = []\n",
    "    while i<len(a) and j<len(b):\n",
    "        if a[i] <= b[i]:\n",
    "            out.append(a[i])\n",
    "            i += 1\n",
    "        else:\n",
    "            out.appent(b[j])\n",
    "            j += 1\n",
    "\n",
    "    \"\"\"Why extend instead of append?\n",
    "\n",
    ".append(x) → adds a single element x to the list.\n",
    "\n",
    ".extend([x, y, z]) → adds all elements of the iterable to the list.\n",
    "\n",
    "So:\n",
    "\n",
    "out.extend(a[i:])\n",
    "\n",
    "\n",
    "means “take the sublist a[i:] and dump all of it into out”.\"\"\"\n",
    "    out.extend(a[i:])\n",
    "    out.extend(b[j:])\n",
    "    return out\n",
    "\n",
    "a = [1, 3, 5]\n",
    "b = [2, 4, 6]\n",
    "merge_sorted_lists(a, b)\n"
   ]
  },
  {
   "cell_type": "markdown",
   "id": "4935c607",
   "metadata": {},
   "source": [
    "fibonacci"
   ]
  },
  {
   "cell_type": "code",
   "execution_count": null,
   "id": "b86d3a48",
   "metadata": {},
   "outputs": [
    {
     "data": {
      "text/plain": [
       "[0, 1, 1, 2, 3, 5, 8, 13, 21, 34]"
      ]
     },
     "execution_count": 4,
     "metadata": {},
     "output_type": "execute_result"
    }
   ],
   "source": [
    "from typing import List\n",
    "\n",
    "def fibonacci(n:int) -> List[int]:\n",
    "    fib_seq = [0,1]\n",
    "    while len(fib_seq) < n:\n",
    "        fib_seq.append(fib_seq[-1]+fib_seq[-2])\n",
    "    return fib_seq[:n]\n",
    "\n",
    "fibonacci(10)\n"
   ]
  },
  {
   "cell_type": "markdown",
   "id": "dad25596",
   "metadata": {},
   "source": [
    "Count frequency of characters in a string"
   ]
  },
  {
   "cell_type": "code",
   "execution_count": 8,
   "id": "306c695f",
   "metadata": {},
   "outputs": [
    {
     "name": "stdout",
     "output_type": "stream",
     "text": [
      "{'Hello': 2, 'everyone.': 1, 'world!': 1}\n",
      "{'H': 2, 'e': 5, 'l': 5, 'o': 4, ' ': 3, 'w': 1, 'r': 2, 'd': 1, '!': 1, 'v': 1, 'y': 1, 'n': 1, '.': 1}\n"
     ]
    }
   ],
   "source": [
    "from typing import Dict\n",
    "from collections import Counter\n",
    "def count_words(text: str) -> Dict[str, int]:\n",
    "    return {word: text.split().count(word) for word in set(text.split())}\n",
    "\n",
    "text = \"Hello world! Hello everyone.\"\n",
    "print(count_words(text))\n",
    "print(dict(Counter(text)))"
   ]
  },
  {
   "cell_type": "code",
   "execution_count": null,
   "id": "bb97fac3",
   "metadata": {},
   "outputs": [],
   "source": []
  }
 ],
 "metadata": {
  "kernelspec": {
   "display_name": "Python (Linux Deep GPU)",
   "language": "python",
   "name": "linux-deep-gpu"
  },
  "language_info": {
   "codemirror_mode": {
    "name": "ipython",
    "version": 3
   },
   "file_extension": ".py",
   "mimetype": "text/x-python",
   "name": "python",
   "nbconvert_exporter": "python",
   "pygments_lexer": "ipython3",
   "version": "3.12.2"
  }
 },
 "nbformat": 4,
 "nbformat_minor": 5
}
